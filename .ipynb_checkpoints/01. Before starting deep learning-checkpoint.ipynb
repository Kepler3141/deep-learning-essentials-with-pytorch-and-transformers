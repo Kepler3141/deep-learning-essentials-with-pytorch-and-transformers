{
 "cells": [
  {
   "cell_type": "markdown",
   "id": "269e4137-1778-44aa-a86c-57b03db30629",
   "metadata": {},
   "source": [
    "# 01. 딥 러닝을 시작하기 전에"
   ]
  },
  {
   "cell_type": "markdown",
   "id": "a3cf0eee-d842-431d-963e-723a664443cf",
   "metadata": {},
   "source": [
    "## 01-03 판다스(Pandas) and 넘파이(Numpy) and 맷플롭립(Matplotlib)"
   ]
  },
  {
   "cell_type": "markdown",
   "id": "7fcc9428-1ea2-45a0-9f6b-b3aec6c96fe8",
   "metadata": {
    "jp-MarkdownHeadingCollapsed": true
   },
   "source": [
    "### 1. 판다스(Pandas)"
   ]
  },
  {
   "cell_type": "markdown",
   "id": "f2c30d93-0fe6-4d62-8012-2fcbefe8cd4e",
   "metadata": {},
   "source": [
    "#### 1) 시리즈(Series)"
   ]
  },
  {
   "cell_type": "code",
   "execution_count": 1,
   "id": "12f4e065-4cd8-49c6-b778-5fa98312b30f",
   "metadata": {
    "ExecuteTime": {
     "end_time": "2024-01-08T13:33:11.332194Z",
     "start_time": "2024-01-08T13:33:10.870470900Z"
    }
   },
   "outputs": [],
   "source": [
    "import pandas as pd"
   ]
  },
  {
   "cell_type": "code",
   "execution_count": 2,
   "id": "a2040170-eb39-4573-91ee-eabb0e915422",
   "metadata": {
    "ExecuteTime": {
     "end_time": "2024-01-08T13:33:11.333890700Z",
     "start_time": "2024-01-08T13:33:11.317471500Z"
    }
   },
   "outputs": [
    {
     "name": "stdout",
     "output_type": "stream",
     "text": [
      "시리즈 출력\n",
      "---------------\n",
      "피자    17000\n",
      "치킨    18000\n",
      "콜라     1000\n",
      "맥주     5000\n",
      "dtype: int64\n"
     ]
    }
   ],
   "source": [
    "sr = pd.Series([17000, 18000, 1000, 5000],\n",
    "               index=[\"피자\", \"치킨\", \"콜라\", \"맥주\"])\n",
    "print('시리즈 출력')\n",
    "print('-'*15)\n",
    "print(sr)"
   ]
  },
  {
   "cell_type": "code",
   "execution_count": 3,
   "id": "879d31b6-0916-4f37-8f27-8a82790a3d64",
   "metadata": {
    "ExecuteTime": {
     "end_time": "2024-01-08T13:33:11.340901900Z",
     "start_time": "2024-01-08T13:33:11.321687800Z"
    }
   },
   "outputs": [
    {
     "name": "stdout",
     "output_type": "stream",
     "text": [
      "시리즈의 값 : [17000 18000  1000  5000]\n",
      "시리즈의 인덱스 : Index(['피자', '치킨', '콜라', '맥주'], dtype='object')\n"
     ]
    }
   ],
   "source": [
    "print('시리즈의 값 : {}'.format(sr.values))\n",
    "print('시리즈의 인덱스 : {}'.format(sr.index))"
   ]
  },
  {
   "cell_type": "markdown",
   "id": "bf7c8d32-44c9-4438-8f41-f40559ea54d7",
   "metadata": {},
   "source": [
    "#### 2) 데이터프레임(DataFrame)"
   ]
  },
  {
   "cell_type": "code",
   "execution_count": 4,
   "id": "8829be8b-28f6-4d24-ade9-f8ffb6df0f16",
   "metadata": {
    "ExecuteTime": {
     "end_time": "2024-01-08T13:33:11.357255600Z",
     "start_time": "2024-01-08T13:33:11.330200200Z"
    }
   },
   "outputs": [
    {
     "name": "stdout",
     "output_type": "stream",
     "text": [
      "데이터프레임 출력 :\n",
      "------------------\n",
      "       A  B  C\n",
      "one    1  2  3\n",
      "two    4  5  6\n",
      "three  7  8  9\n"
     ]
    }
   ],
   "source": [
    "values = [[1, 2, 3], [4, 5, 6], [7, 8, 9]]\n",
    "index = ['one', 'two', 'three']\n",
    "columns = ['A', 'B', 'C']\n",
    "\n",
    "df = pd.DataFrame(values, index=index, columns=columns)\n",
    "\n",
    "print('데이터프레임 출력 :')\n",
    "print('-'*18)\n",
    "print(df)"
   ]
  },
  {
   "cell_type": "code",
   "execution_count": 5,
   "id": "0c067fbc-e1c3-4b7b-945c-6e0401abf0ca",
   "metadata": {
    "ExecuteTime": {
     "end_time": "2024-01-08T13:33:11.372934400Z",
     "start_time": "2024-01-08T13:33:11.338907300Z"
    }
   },
   "outputs": [
    {
     "name": "stdout",
     "output_type": "stream",
     "text": [
      "데이터프레임의 인덱스 : Index(['one', 'two', 'three'], dtype='object')\n",
      "데이터프레임의 열이름 : Index(['A', 'B', 'C'], dtype='object')\n",
      "데이터프레임의 값 :\n",
      "------------------\n",
      "[[1 2 3]\n",
      " [4 5 6]\n",
      " [7 8 9]]\n"
     ]
    }
   ],
   "source": [
    "print('데이터프레임의 인덱스 : {}'.format(df.index))\n",
    "print('데이터프레임의 열이름 : {}'.format(df.columns))\n",
    "print('데이터프레임의 값 :')\n",
    "print('-'*18)\n",
    "print(df.values)"
   ]
  },
  {
   "cell_type": "markdown",
   "id": "1712c35f-a884-4503-bea8-fdec5f472212",
   "metadata": {},
   "source": [
    "#### 3) 데이터프레임의 생성"
   ]
  },
  {
   "cell_type": "code",
   "execution_count": 6,
   "id": "deebab5c-77f5-42da-a0a2-d8b4dda2dcb8",
   "metadata": {
    "ExecuteTime": {
     "end_time": "2024-01-08T13:33:11.459073600Z",
     "start_time": "2024-01-08T13:33:11.348279400Z"
    }
   },
   "outputs": [
    {
     "name": "stdout",
     "output_type": "stream",
     "text": [
      "      0         1      2\n",
      "0  1000     Steve  90.72\n",
      "1  1001     James  78.09\n",
      "2  1002    Doyeon  98.43\n",
      "3  1003      Jane  64.19\n",
      "4  1004  Pilwoong  81.30\n",
      "5  1005      Tony  99.14\n"
     ]
    }
   ],
   "source": [
    "# 리스트로 생성하기\n",
    "data = [\n",
    "    ['1000', 'Steve', 90.72],\n",
    "    ['1001', 'James', 78.09],\n",
    "    ['1002', 'Doyeon', 98.43],\n",
    "    ['1003', 'Jane', 64.19],\n",
    "    ['1004', 'Pilwoong', 81.30],\n",
    "    ['1005', 'Tony', 99.14],\n",
    "]\n",
    "\n",
    "df = pd.DataFrame(data)\n",
    "print(df)"
   ]
  },
  {
   "cell_type": "code",
   "execution_count": 7,
   "id": "e376b982-4dd3-400f-bea5-67a9c6e08da4",
   "metadata": {
    "ExecuteTime": {
     "end_time": "2024-01-08T13:33:11.480366200Z",
     "start_time": "2024-01-08T13:33:11.355261300Z"
    }
   },
   "outputs": [
    {
     "name": "stdout",
     "output_type": "stream",
     "text": [
      "     학번        이름     점수\n",
      "0  1000     Steve  90.72\n",
      "1  1001     James  78.09\n",
      "2  1002    Doyeon  98.43\n",
      "3  1003      Jane  64.19\n",
      "4  1004  Pilwoong  81.30\n",
      "5  1005      Tony  99.14\n"
     ]
    }
   ],
   "source": [
    "df = pd.DataFrame(data, columns=['학번', '이름', '점수'])\n",
    "print(df)"
   ]
  },
  {
   "cell_type": "code",
   "execution_count": 8,
   "id": "acb30971-4a7c-4512-b3e7-a0fcadbd5725",
   "metadata": {
    "ExecuteTime": {
     "end_time": "2024-01-08T13:33:11.481635100Z",
     "start_time": "2024-01-08T13:33:11.363781500Z"
    }
   },
   "outputs": [
    {
     "name": "stdout",
     "output_type": "stream",
     "text": [
      "     학번        이름     점수\n",
      "0  1000     Steve  90.72\n",
      "1  1001     James  78.09\n",
      "2  1002    Doyeon  98.43\n",
      "3  1003      Jane  64.19\n",
      "4  1004  Pilwoong  81.30\n",
      "5  1005      Tony  99.14\n"
     ]
    }
   ],
   "source": [
    "# 딕셔너리로 생성하기\n",
    "data = {\n",
    "    '학번' : ['1000', '1001', '1002', '1003', '1004', '1005'],\n",
    "    '이름' : ['Steve', 'James', 'Doyeon', 'Jane', 'Pilwoong', 'Tony'],\n",
    "    '점수' : [90.72, 78.09, 98.43, 64.19, 81.30, 99.14]\n",
    "}\n",
    "\n",
    "df = pd.DataFrame(data)\n",
    "print(df)"
   ]
  },
  {
   "cell_type": "markdown",
   "id": "38c2b955-3a8b-4c95-a2fe-657cd0afdbcf",
   "metadata": {},
   "source": [
    "#### 4) 데이터프레임 조회하기"
   ]
  },
  {
   "cell_type": "code",
   "execution_count": 9,
   "id": "21254638-6d67-4809-b71e-d9e0ed3ac8ac",
   "metadata": {
    "ExecuteTime": {
     "end_time": "2024-01-08T13:33:11.494603700Z",
     "start_time": "2024-01-08T13:33:11.370940Z"
    }
   },
   "outputs": [
    {
     "name": "stdout",
     "output_type": "stream",
     "text": [
      "     학번      이름     점수\n",
      "0  1000   Steve  90.72\n",
      "1  1001   James  78.09\n",
      "2  1002  Doyeon  98.43\n"
     ]
    }
   ],
   "source": [
    "# 앞 부분을 3개만 보기\n",
    "print(df.head(3))"
   ]
  },
  {
   "cell_type": "code",
   "execution_count": 10,
   "id": "aebf13c3-6474-4458-b779-05a81712020c",
   "metadata": {
    "ExecuteTime": {
     "end_time": "2024-01-08T13:33:11.497053100Z",
     "start_time": "2024-01-08T13:33:11.380514200Z"
    }
   },
   "outputs": [
    {
     "name": "stdout",
     "output_type": "stream",
     "text": [
      "     학번        이름     점수\n",
      "3  1003      Jane  64.19\n",
      "4  1004  Pilwoong  81.30\n",
      "5  1005      Tony  99.14\n"
     ]
    }
   ],
   "source": [
    "# 뒷 부분을 3개만 보기\n",
    "print(df.tail(3))"
   ]
  },
  {
   "cell_type": "code",
   "execution_count": 11,
   "id": "fbe934f6-4cd2-4f42-ad4a-3936888fce8e",
   "metadata": {
    "ExecuteTime": {
     "end_time": "2024-01-08T13:33:11.504576700Z",
     "start_time": "2024-01-08T13:33:11.387201400Z"
    }
   },
   "outputs": [
    {
     "name": "stdout",
     "output_type": "stream",
     "text": [
      "0    1000\n",
      "1    1001\n",
      "2    1002\n",
      "3    1003\n",
      "4    1004\n",
      "5    1005\n",
      "Name: 학번, dtype: object\n"
     ]
    }
   ],
   "source": [
    "# '학번'에 해당되는 열을 보기\n",
    "print(df['학번'])"
   ]
  },
  {
   "cell_type": "markdown",
   "id": "ab1e3750-30b1-4871-8884-98125a23d101",
   "metadata": {},
   "source": [
    "#### 5) 외부 데이터 읽기"
   ]
  },
  {
   "cell_type": "code",
   "execution_count": 12,
   "id": "af6b4d5d-7c6d-4846-98c8-65163c700f31",
   "metadata": {
    "ExecuteTime": {
     "end_time": "2024-01-08T13:33:11.598329700Z",
     "start_time": "2024-01-08T13:33:11.393681500Z"
    }
   },
   "outputs": [
    {
     "name": "stdout",
     "output_type": "stream",
     "text": [
      "   student id      name  score\n",
      "0        1000     Steve  90.72\n",
      "1        1001     James  78.09\n",
      "2        1002    Doyeon  98.43\n",
      "3        1003      Jane  64.19\n",
      "4        1004  Pilwoong  81.30\n",
      "5        1005      Tony  99.14\n"
     ]
    }
   ],
   "source": [
    "df = pd.read_csv('example.csv')\n",
    "print(df)"
   ]
  },
  {
   "cell_type": "code",
   "execution_count": 13,
   "id": "f8ed7692-7755-4834-bf0f-97a5585b9e82",
   "metadata": {
    "ExecuteTime": {
     "end_time": "2024-01-08T13:33:11.600324600Z",
     "start_time": "2024-01-08T13:33:11.405807600Z"
    }
   },
   "outputs": [
    {
     "name": "stdout",
     "output_type": "stream",
     "text": [
      "RangeIndex(start=0, stop=6, step=1)\n"
     ]
    }
   ],
   "source": [
    "print(df.index)"
   ]
  },
  {
   "cell_type": "markdown",
   "id": "f553b925-8107-4279-bf66-fcf76925b489",
   "metadata": {
    "jp-MarkdownHeadingCollapsed": true
   },
   "source": [
    "### 2. 넘파이(Numpy)"
   ]
  },
  {
   "cell_type": "markdown",
   "id": "a2055661-6640-4882-8c21-bfcc61d29bfb",
   "metadata": {},
   "source": [
    "#### 1) np.array()"
   ]
  },
  {
   "cell_type": "code",
   "execution_count": 14,
   "id": "5731388d-c89a-4736-b0d4-d67e2987e7bc",
   "metadata": {
    "ExecuteTime": {
     "end_time": "2024-01-08T13:33:11.601321600Z",
     "start_time": "2024-01-08T13:33:11.409475300Z"
    }
   },
   "outputs": [],
   "source": [
    "import numpy as np"
   ]
  },
  {
   "cell_type": "code",
   "execution_count": 15,
   "id": "e41a62c7-2ff4-4310-9b0e-d85fc706ce86",
   "metadata": {
    "ExecuteTime": {
     "end_time": "2024-01-08T13:33:11.603316100Z",
     "start_time": "2024-01-08T13:33:11.417447300Z"
    }
   },
   "outputs": [
    {
     "name": "stdout",
     "output_type": "stream",
     "text": [
      "[1 2 3 4 5]\n"
     ]
    }
   ],
   "source": [
    "# 1차원 배열\n",
    "vec = np.array([1, 2, 3, 4, 5])\n",
    "print(vec)"
   ]
  },
  {
   "cell_type": "code",
   "execution_count": 16,
   "id": "a0b82eb5-8577-43a7-91c7-0754354bba21",
   "metadata": {
    "ExecuteTime": {
     "end_time": "2024-01-08T13:33:11.624270300Z",
     "start_time": "2024-01-08T13:33:11.423592100Z"
    }
   },
   "outputs": [
    {
     "name": "stdout",
     "output_type": "stream",
     "text": [
      "[[10 20 30]\n",
      " [60 70 80]]\n"
     ]
    }
   ],
   "source": [
    "# 2차원 배열\n",
    "mat = np.array([[10, 20, 30], [60, 70, 80]])\n",
    "print(mat)"
   ]
  },
  {
   "cell_type": "code",
   "execution_count": 17,
   "id": "fd30662b-fe3c-4f4f-bec3-84a18c92b101",
   "metadata": {
    "ExecuteTime": {
     "end_time": "2024-01-08T13:33:11.625771800Z",
     "start_time": "2024-01-08T13:33:11.429598500Z"
    }
   },
   "outputs": [
    {
     "name": "stdout",
     "output_type": "stream",
     "text": [
      "vec의 타입 : <class 'numpy.ndarray'>\n",
      "mat의 타입 : <class 'numpy.ndarray'>\n"
     ]
    }
   ],
   "source": [
    "print('vec의 타입 :', type(vec))\n",
    "print('mat의 타입 :', type(mat))"
   ]
  },
  {
   "cell_type": "code",
   "execution_count": 18,
   "id": "a6cdc96d-09ae-461b-8e03-db632e9c892a",
   "metadata": {
    "ExecuteTime": {
     "end_time": "2024-01-08T13:33:11.626769100Z",
     "start_time": "2024-01-08T13:33:11.436278800Z"
    }
   },
   "outputs": [
    {
     "name": "stdout",
     "output_type": "stream",
     "text": [
      "vec의 축의 개수 : 1\n",
      "vec의 크기(shape) : (5,)\n"
     ]
    }
   ],
   "source": [
    "print('vec의 축의 개수 :', vec.ndim) # 축의 개수 출력\n",
    "print('vec의 크기(shape) :', vec.shape) # 크기 출력"
   ]
  },
  {
   "cell_type": "code",
   "execution_count": 19,
   "id": "204dc201-9a24-4fb2-b7b4-f273274d62ba",
   "metadata": {
    "ExecuteTime": {
     "end_time": "2024-01-08T13:33:11.628763700Z",
     "start_time": "2024-01-08T13:33:11.443022200Z"
    }
   },
   "outputs": [
    {
     "name": "stdout",
     "output_type": "stream",
     "text": [
      "mat의 축의 개수 : 2\n",
      "mat의 크기(shape) : (2, 3)\n"
     ]
    }
   ],
   "source": [
    "print('mat의 축의 개수 :', mat.ndim) # 축의 개수 출력\n",
    "print('mat의 크기(shape) :', mat.shape) # 크기 출력"
   ]
  },
  {
   "cell_type": "markdown",
   "id": "9f352b04-be1e-46ee-a429-912307ad2fe5",
   "metadata": {},
   "source": [
    "#### 2) ndarray의 초기화"
   ]
  },
  {
   "cell_type": "code",
   "execution_count": 20,
   "id": "151d194d-01a2-4d2b-864c-03c5b94b2bd7",
   "metadata": {
    "ExecuteTime": {
     "end_time": "2024-01-08T13:33:11.641729600Z",
     "start_time": "2024-01-08T13:33:11.449190600Z"
    }
   },
   "outputs": [
    {
     "name": "stdout",
     "output_type": "stream",
     "text": [
      "[[0. 0. 0.]\n",
      " [0. 0. 0.]]\n"
     ]
    }
   ],
   "source": [
    "# 모든 값이 0인 2x3 배열 생성.\n",
    "zero_mat = np.zeros((2,3))\n",
    "print(zero_mat)"
   ]
  },
  {
   "cell_type": "code",
   "execution_count": 21,
   "id": "bb2680b6-31c6-45c2-9ad7-1c2e9ce7164c",
   "metadata": {
    "ExecuteTime": {
     "end_time": "2024-01-08T13:33:11.656717900Z",
     "start_time": "2024-01-08T13:33:11.456088700Z"
    }
   },
   "outputs": [
    {
     "name": "stdout",
     "output_type": "stream",
     "text": [
      "[[1. 1. 1.]\n",
      " [1. 1. 1.]]\n"
     ]
    }
   ],
   "source": [
    "# 모든 값이 1인 2x3 배열 생성.\n",
    "one_mat = np.ones((2,3))\n",
    "print(one_mat)"
   ]
  },
  {
   "cell_type": "code",
   "execution_count": 22,
   "id": "f36b0b81-e313-4874-88f3-2650a8d76b1f",
   "metadata": {
    "ExecuteTime": {
     "end_time": "2024-01-08T13:33:11.657715100Z",
     "start_time": "2024-01-08T13:33:11.462575200Z"
    }
   },
   "outputs": [
    {
     "name": "stdout",
     "output_type": "stream",
     "text": [
      "[[7 7]\n",
      " [7 7]]\n"
     ]
    }
   ],
   "source": [
    "# 모든 값이 특정 상수인 배열 생성. 이 경우 7.\n",
    "same_value_mat = np.full((2,2), 7)\n",
    "print(same_value_mat)"
   ]
  },
  {
   "cell_type": "code",
   "execution_count": 23,
   "id": "1c245956-bf46-4a19-96b3-9bfeeb586b4e",
   "metadata": {
    "ExecuteTime": {
     "end_time": "2024-01-08T13:33:11.859512900Z",
     "start_time": "2024-01-08T13:33:11.658713800Z"
    }
   },
   "outputs": [
    {
     "name": "stdout",
     "output_type": "stream",
     "text": [
      "[[1. 0. 0.]\n",
      " [0. 1. 0.]\n",
      " [0. 0. 1.]]\n"
     ]
    }
   ],
   "source": [
    "# 대각선 값이 1이고 나머지 값이 0인 2차원 배열을 생성.\n",
    "eye_mat = np.eye(3)\n",
    "print(eye_mat)"
   ]
  },
  {
   "cell_type": "code",
   "execution_count": 24,
   "id": "d2eaa95d-e1f7-4e04-a3ac-d0b1285854ba",
   "metadata": {
    "ExecuteTime": {
     "end_time": "2024-01-08T13:33:11.876237500Z",
     "start_time": "2024-01-08T13:33:11.847955500Z"
    }
   },
   "outputs": [
    {
     "data": {
      "text/plain": [
       "array([[0., 1., 0., 0., 0.],\n",
       "       [0., 0., 1., 0., 0.],\n",
       "       [0., 0., 0., 1., 0.]])"
      ]
     },
     "execution_count": 24,
     "metadata": {},
     "output_type": "execute_result"
    }
   ],
   "source": [
    "# np.eye는 np.identity와 유사하다.\n",
    "# identity는 항상 n*n 행렬이지만 eye는 원하는 n*m으로 만들 수 있다.\n",
    "np.eye(N=3, M=5, k=1)"
   ]
  },
  {
   "cell_type": "code",
   "execution_count": 25,
   "id": "fec49200-296b-4185-b105-09f5c06634b3",
   "metadata": {
    "ExecuteTime": {
     "end_time": "2024-01-08T13:33:11.909152900Z",
     "start_time": "2024-01-08T13:33:11.869486400Z"
    }
   },
   "outputs": [
    {
     "data": {
      "text/plain": [
       "array([[1., 0., 0., 0., 0.],\n",
       "       [0., 1., 0., 0., 0.],\n",
       "       [0., 0., 1., 0., 0.],\n",
       "       [0., 0., 0., 1., 0.],\n",
       "       [0., 0., 0., 0., 1.]])"
      ]
     },
     "execution_count": 25,
     "metadata": {},
     "output_type": "execute_result"
    }
   ],
   "source": [
    "np.identity(5)"
   ]
  },
  {
   "cell_type": "code",
   "execution_count": 26,
   "id": "0fe69f5f-11e2-4efc-95ac-98ba44c5dd1c",
   "metadata": {
    "ExecuteTime": {
     "end_time": "2024-01-08T13:33:11.960044Z",
     "start_time": "2024-01-08T13:33:11.911146900Z"
    }
   },
   "outputs": [
    {
     "name": "stdout",
     "output_type": "stream",
     "text": [
      "[[0.78519605 0.13268557]\n",
      " [0.39469321 0.4740327 ]]\n"
     ]
    }
   ],
   "source": [
    "# 임의의 값으로 채워진 배열 생성\n",
    "random_mat = np.random.random((2,2))\n",
    "print(random_mat)"
   ]
  },
  {
   "cell_type": "markdown",
   "id": "bbfe3552-d82c-4df3-9e93-be44d5057cdb",
   "metadata": {},
   "source": [
    "#### 3) np.arange()"
   ]
  },
  {
   "cell_type": "code",
   "execution_count": 27,
   "id": "11e6da8b-cef9-4b0e-9855-756717bc305c",
   "metadata": {
    "ExecuteTime": {
     "end_time": "2024-01-08T13:33:11.994019400Z",
     "start_time": "2024-01-08T13:33:11.946573600Z"
    }
   },
   "outputs": [
    {
     "name": "stdout",
     "output_type": "stream",
     "text": [
      "[0 1 2 3 4 5 6 7 8 9]\n"
     ]
    }
   ],
   "source": [
    "# 0부터 9까지\n",
    "range_vec = np.arange(10)\n",
    "print(range_vec)"
   ]
  },
  {
   "cell_type": "code",
   "execution_count": 28,
   "id": "d6d53163-5a57-4bba-968f-02179c709c97",
   "metadata": {
    "ExecuteTime": {
     "end_time": "2024-01-08T13:33:12.030575100Z",
     "start_time": "2024-01-08T13:33:11.996739100Z"
    }
   },
   "outputs": [
    {
     "name": "stdout",
     "output_type": "stream",
     "text": [
      "[1 3 5 7 9]\n"
     ]
    }
   ],
   "source": [
    "# 1부터 9까지 +2씩 적용되는 범위\n",
    "n = 2\n",
    "range_n_step_vec = np.arange(1, 10, n)\n",
    "print(range_n_step_vec)"
   ]
  },
  {
   "cell_type": "markdown",
   "id": "f847440f-855a-4421-9f92-de8049649894",
   "metadata": {},
   "source": [
    "#### 4) np.reshape()"
   ]
  },
  {
   "cell_type": "code",
   "execution_count": 29,
   "id": "ca17518b-235a-4d32-b96a-8212b7e77e70",
   "metadata": {
    "ExecuteTime": {
     "end_time": "2024-01-08T13:33:12.076123700Z",
     "start_time": "2024-01-08T13:33:12.030065100Z"
    }
   },
   "outputs": [
    {
     "name": "stdout",
     "output_type": "stream",
     "text": [
      "[[ 0  1  2  3  4  5]\n",
      " [ 6  7  8  9 10 11]\n",
      " [12 13 14 15 16 17]\n",
      " [18 19 20 21 22 23]\n",
      " [24 25 26 27 28 29]]\n"
     ]
    }
   ],
   "source": [
    "reshape_mat = np.array(np.arange(30).reshape((5,6)))\n",
    "print(reshape_mat)"
   ]
  },
  {
   "cell_type": "markdown",
   "id": "8003982c-95b3-45d7-ba25-54eed9e6a7b4",
   "metadata": {},
   "source": [
    "#### 5) Numpy 슬라이싱"
   ]
  },
  {
   "cell_type": "code",
   "execution_count": 30,
   "id": "be7b96d3-1771-40b2-9896-ec97bb7e620b",
   "metadata": {
    "ExecuteTime": {
     "end_time": "2024-01-08T13:33:12.088865400Z",
     "start_time": "2024-01-08T13:33:12.065479200Z"
    }
   },
   "outputs": [
    {
     "name": "stdout",
     "output_type": "stream",
     "text": [
      "[[1 2 3]\n",
      " [4 5 6]]\n"
     ]
    }
   ],
   "source": [
    "mat = np.array([[1, 2, 3], [4, 5, 6]])\n",
    "print(mat)"
   ]
  },
  {
   "cell_type": "code",
   "execution_count": 31,
   "id": "6cb727dd-f82d-4bc1-b4f9-d1f4bd7b47fc",
   "metadata": {
    "ExecuteTime": {
     "end_time": "2024-01-08T13:33:12.135618500Z",
     "start_time": "2024-01-08T13:33:12.083371400Z"
    }
   },
   "outputs": [
    {
     "name": "stdout",
     "output_type": "stream",
     "text": [
      "[2 5]\n"
     ]
    }
   ],
   "source": [
    "# 두번째 열 출력\n",
    "slicing_mat = mat[:, 1]\n",
    "print(slicing_mat)"
   ]
  },
  {
   "cell_type": "markdown",
   "id": "df5309c0-9bf3-48b0-84df-da7bb6bbbcb6",
   "metadata": {},
   "source": [
    "#### 6) Numpy 정수 인덱싱(integer indexing)"
   ]
  },
  {
   "cell_type": "code",
   "execution_count": 32,
   "id": "f3851477-67b3-46d0-8f36-144e3b6cce2b",
   "metadata": {
    "ExecuteTime": {
     "end_time": "2024-01-08T13:33:12.152573500Z",
     "start_time": "2024-01-08T13:33:12.108812400Z"
    }
   },
   "outputs": [
    {
     "name": "stdout",
     "output_type": "stream",
     "text": [
      "[[1 2]\n",
      " [4 5]\n",
      " [7 8]]\n"
     ]
    }
   ],
   "source": [
    "mat = np.array([[1, 2], [4, 5], [7, 8]])\n",
    "print(mat)"
   ]
  },
  {
   "cell_type": "code",
   "execution_count": 33,
   "id": "83e59799-bb5b-41df-95ed-c05a8b9d1260",
   "metadata": {
    "ExecuteTime": {
     "end_time": "2024-01-08T13:33:12.213048300Z",
     "start_time": "2024-01-08T13:33:12.153571100Z"
    }
   },
   "outputs": [
    {
     "name": "stdout",
     "output_type": "stream",
     "text": [
      "4\n"
     ]
    }
   ],
   "source": [
    "# 1행 0열의 원소\n",
    "# => 0부터 카운트하므로 두번째 행 첫번째 열의 원소\n",
    "print(mat[1, 0])"
   ]
  },
  {
   "cell_type": "code",
   "execution_count": 34,
   "id": "656916cf-6f2d-4455-8c25-5cc7e5e85371",
   "metadata": {
    "ExecuteTime": {
     "end_time": "2024-01-08T13:33:12.252683900Z",
     "start_time": "2024-01-08T13:33:12.211429800Z"
    }
   },
   "outputs": [
    {
     "name": "stdout",
     "output_type": "stream",
     "text": [
      "4\n"
     ]
    }
   ],
   "source": [
    "print(mat[1][0])"
   ]
  },
  {
   "cell_type": "code",
   "execution_count": 35,
   "id": "07f9ca8a-ce93-43d9-9f8e-c9229cbac567",
   "metadata": {
    "ExecuteTime": {
     "end_time": "2024-01-08T13:33:12.266830400Z",
     "start_time": "2024-01-08T13:33:12.243612300Z"
    }
   },
   "outputs": [
    {
     "name": "stdout",
     "output_type": "stream",
     "text": [
      "[7 5]\n"
     ]
    }
   ],
   "source": [
    "# mat[[2행, 1행],[0열, 1열]]\n",
    "# 각 행과 열의 쌍을 매칭하면 2행 0열, 1행 1열의 두 개의 원소.\n",
    "indexing_mat = mat[[2, 1], [0, 1]]\n",
    "print(indexing_mat)"
   ]
  },
  {
   "cell_type": "markdown",
   "id": "7eb8d4db-e48d-4018-bf12-718e9f0b623e",
   "metadata": {},
   "source": [
    "#### 7) Numpy 연산"
   ]
  },
  {
   "cell_type": "code",
   "execution_count": 36,
   "id": "34836831-0990-422e-adf2-3edbfde50759",
   "metadata": {
    "ExecuteTime": {
     "end_time": "2024-01-08T13:33:12.308926600Z",
     "start_time": "2024-01-08T13:33:12.260339Z"
    }
   },
   "outputs": [],
   "source": [
    "x = np.array([1, 2, 3])\n",
    "y = np.array([4, 5, 6])"
   ]
  },
  {
   "cell_type": "code",
   "execution_count": 37,
   "id": "1b1f65bf-6c6a-4aa3-a731-162bd0ef0866",
   "metadata": {
    "ExecuteTime": {
     "end_time": "2024-01-08T13:33:12.326879Z",
     "start_time": "2024-01-08T13:33:12.282817800Z"
    }
   },
   "outputs": [
    {
     "name": "stdout",
     "output_type": "stream",
     "text": [
      "[5 7 9]\n"
     ]
    }
   ],
   "source": [
    "# result = np.add(x, y)와 동일.\n",
    "result = x + y\n",
    "print(result)"
   ]
  },
  {
   "cell_type": "code",
   "execution_count": 38,
   "id": "076f97c6-fa57-493e-b3f3-ef795f9ea1eb",
   "metadata": {
    "ExecuteTime": {
     "end_time": "2024-01-08T13:33:12.376553800Z",
     "start_time": "2024-01-08T13:33:12.327876500Z"
    }
   },
   "outputs": [
    {
     "name": "stdout",
     "output_type": "stream",
     "text": [
      "[-3 -3 -3]\n"
     ]
    }
   ],
   "source": [
    "# result = np.subtract(x, y)와 동일.\n",
    "result = x - y\n",
    "print(result)"
   ]
  },
  {
   "cell_type": "code",
   "execution_count": 39,
   "id": "01fd47a8-73d2-48d1-984b-3ff19e321def",
   "metadata": {
    "ExecuteTime": {
     "end_time": "2024-01-08T13:33:12.407474900Z",
     "start_time": "2024-01-08T13:33:12.361431600Z"
    }
   },
   "outputs": [
    {
     "name": "stdout",
     "output_type": "stream",
     "text": [
      "[-3 -6 -9]\n"
     ]
    }
   ],
   "source": [
    "# result = np.multiply(result, x)와 동일.\n",
    "result = result * x\n",
    "print(result)"
   ]
  },
  {
   "cell_type": "code",
   "execution_count": 40,
   "id": "b9644db6-ed4f-4cf4-a51f-1bfbb838ee94",
   "metadata": {
    "ExecuteTime": {
     "end_time": "2024-01-08T13:33:12.455671500Z",
     "start_time": "2024-01-08T13:33:12.408472900Z"
    }
   },
   "outputs": [
    {
     "name": "stdout",
     "output_type": "stream",
     "text": [
      "[-3. -3. -3.]\n"
     ]
    }
   ],
   "source": [
    "# result = np.devide(result, x)와 동일.\n",
    "result = result / x\n",
    "print(result)"
   ]
  },
  {
   "cell_type": "code",
   "execution_count": 41,
   "id": "061233b9-5d50-4e99-b302-0c3c94627cb2",
   "metadata": {
    "ExecuteTime": {
     "end_time": "2024-01-08T13:33:12.487503200Z",
     "start_time": "2024-01-08T13:33:12.433632200Z"
    }
   },
   "outputs": [
    {
     "name": "stdout",
     "output_type": "stream",
     "text": [
      "[[19 22]\n",
      " [43 50]]\n"
     ]
    }
   ],
   "source": [
    "mat1 = np.array([[1,2],[3,4]])\n",
    "mat2 = np.array([[5,6],[7,8]])\n",
    "mat3 = np.dot(mat1, mat2)\n",
    "print(mat3)"
   ]
  },
  {
   "cell_type": "markdown",
   "id": "fe35e6fc-913c-4b71-b60a-786f36da5ed2",
   "metadata": {
    "jp-MarkdownHeadingCollapsed": true
   },
   "source": [
    "### 3. 맷플롯립(Matplotlib)"
   ]
  },
  {
   "cell_type": "code",
   "execution_count": 42,
   "id": "872c8c8c-8974-488c-a028-ad0a64348a4d",
   "metadata": {
    "ExecuteTime": {
     "end_time": "2024-01-08T13:33:12.877719300Z",
     "start_time": "2024-01-08T13:33:12.486504500Z"
    }
   },
   "outputs": [],
   "source": [
    "import matplotlib.pyplot as plt"
   ]
  },
  {
   "cell_type": "markdown",
   "id": "2559b59a-8599-4884-8622-973f4304298b",
   "metadata": {},
   "source": [
    "#### 1) 라인 플롯 그리기"
   ]
  },
  {
   "cell_type": "code",
   "execution_count": 43,
   "id": "274d8348-ebee-4239-a811-3f7290c5a044",
   "metadata": {
    "ExecuteTime": {
     "end_time": "2024-01-08T13:33:13.031304Z",
     "start_time": "2024-01-08T13:33:12.878716600Z"
    }
   },
   "outputs": [
    {
     "data": {
      "image/png": "[encoded data removed]",
      "text/plain": [
       "<Figure size 640x480 with 1 Axes>"
      ]
     },
     "metadata": {},
     "output_type": "display_data"
    }
   ],
   "source": [
    "plt.title('test')\n",
    "plt.plot([1,2,3,4],[2,4,8,6])\n",
    "plt.show()"
   ]
  },
  {
   "cell_type": "markdown",
   "id": "0be9c463-61b4-4fe6-a7c6-a2be2dca3e59",
   "metadata": {},
   "source": [
    "#### 2) 축 레이블 삽입하기"
   ]
  },
  {
   "cell_type": "code",
   "execution_count": 44,
   "id": "1359864e-064b-4228-8081-1a22505e3ba2",
   "metadata": {
    "ExecuteTime": {
     "end_time": "2024-01-08T13:33:13.153457800Z",
     "start_time": "2024-01-08T13:33:13.031304Z"
    }
   },
   "outputs": [
    {
     "data": {
      "image/png": "[encoded data removed]",
      "text/plain": [
       "<Figure size 640x480 with 1 Axes>"
      ]
     },
     "metadata": {},
     "output_type": "display_data"
    }
   ],
   "source": [
    "plt.title('test')\n",
    "plt.plot([1,2,3,4],[2,4,8,6])\n",
    "plt.xlabel('hours')\n",
    "plt.ylabel('score')\n",
    "plt.show()"
   ]
  },
  {
   "cell_type": "markdown",
   "id": "c0b9055d-d26f-49ca-a90e-4d58ce202a02",
   "metadata": {},
   "source": [
    "#### 3) 라인 추가와 범례 삽입하기"
   ]
  },
  {
   "cell_type": "code",
   "execution_count": 45,
   "id": "b05203e2-2c7e-4583-83c7-801b29b4928b",
   "metadata": {
    "ExecuteTime": {
     "end_time": "2024-01-08T13:33:13.305657500Z",
     "start_time": "2024-01-08T13:33:13.154454200Z"
    }
   },
   "outputs": [
    {
     "data": {
      "image/png": "[encoded data removed]",
      "text/plain": [
       "<Figure size 640x480 with 1 Axes>"
      ]
     },
     "metadata": {},
     "output_type": "display_data"
    }
   ],
   "source": [
    "plt.title('students')\n",
    "plt.plot([1,2,3,4],[2,4,8,6])\n",
    "plt.plot([1.5,2.5,3.5,4.5],[3,5,8,10]) # 라인 새로 추가\n",
    "plt.xlabel('hours')\n",
    "plt.ylabel('score')\n",
    "plt.legend(['A studnet', 'B student']) # 범례 삽입\n",
    "plt.show()"
   ]
  },
  {
   "cell_type": "markdown",
   "id": "abf08303884073b4",
   "metadata": {
    "collapsed": false,
    "jupyter": {
     "outputs_hidden": false
    }
   },
   "source": [
    "## 01-04 머신 러닝 워크플로우(Machine Learning Workflow)"
   ]
  },
  {
   "attachments": {
    "eec3e8c1-d86e-446a-975f-d65f10053cd9.png": {
     "image/png": "[encoded data removed]"
    }
   },
   "cell_type": "markdown",
   "id": "1fe5d6c5c1416fab",
   "metadata": {
    "collapsed": false,
    "jupyter": {
     "outputs_hidden": false
    }
   },
   "source": [
    "![image.png](attachment:eec3e8c1-d86e-446a-975f-d65f10053cd9.png)"
   ]
  },
  {
   "cell_type": "code",
   "execution_count": null,
   "id": "c77d8131-2faf-4fd8-b3a6-06efa36f8d8d",
   "metadata": {},
   "outputs": [],
   "source": []
  }
 ],
 "metadata": {
  "kernelspec": {
   "display_name": "Python 3 (ipykernel)",
   "language": "python",
   "name": "python3"
  },
  "language_info": {
   "codemirror_mode": {
    "name": "ipython",
    "version": 3
   },
   "file_extension": ".py",
   "mimetype": "text/x-python",
   "name": "python",
   "nbconvert_exporter": "python",
   "pygments_lexer": "ipython3",
   "version": "3.11.5"
  }
 },
 "nbformat": 4,
 "nbformat_minor": 5
}
